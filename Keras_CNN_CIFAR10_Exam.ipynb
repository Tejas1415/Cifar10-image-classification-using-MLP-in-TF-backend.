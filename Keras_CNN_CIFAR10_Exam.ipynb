{
  "nbformat": 4,
  "nbformat_minor": 0,
  "metadata": {
    "colab": {
      "name": "Keras_CNN_CIFAR10_Exam.ipynb",
      "version": "0.3.2",
      "provenance": [],
      "collapsed_sections": [],
      "include_colab_link": true
    },
    "language_info": {
      "codemirror_mode": {
        "name": "ipython",
        "version": 3
      },
      "file_extension": ".py",
      "mimetype": "text/x-python",
      "name": "python",
      "nbconvert_exporter": "python",
      "pygments_lexer": "ipython3",
      "version": "3.6.8"
    },
    "kernelspec": {
      "name": "python3",
      "display_name": "Python 3"
    },
    "accelerator": "GPU"
  },
  "cells": [
    {
      "cell_type": "markdown",
      "metadata": {
        "id": "view-in-github",
        "colab_type": "text"
      },
      "source": [
        "<a href=\"https://colab.research.google.com/github/Tejas1415/Cifar10-image-classification-using-MLP-in-TF-backend./blob/master/Keras_CNN_CIFAR10_Exam.ipynb\" target=\"_parent\"><img src=\"https://colab.research.google.com/assets/colab-badge.svg\" alt=\"Open In Colab\"/></a>"
      ]
    },
    {
      "cell_type": "code",
      "metadata": {
        "id": "pgu7oI-eqJ6r",
        "colab_type": "code",
        "colab": {}
      },
      "source": [
        "from __future__ import print_function\n",
        "import keras\n",
        "from keras.datasets import mnist, cifar10\n",
        "from keras.layers import Dense, Flatten\n",
        "from keras.layers import Conv2D, MaxPooling2D\n",
        "from keras.models import Sequential\n",
        "import matplotlib.pylab as plt\n",
        "import numpy as np \n",
        "\n",
        "# load the data already splits into train and test data sets\n",
        "(x_train, y_train), (x_test, y_test) = cifar10.load_data()\n",
        "\n",
        "# input image dimensions\n",
        "img_x, img_y, channels = 32, 32, 3\n",
        "\n",
        "keras.backend.set_image_data_format('channels_last')\n",
        "input_shape = (img_x, img_y, channels)\n",
        "# reshape the data into a 4D tensor - (sample_number, x_img_size, y_img_size, num_channels)\n",
        "x_train = x_train.reshape(x_train.shape[0], img_x, img_y, channels)\n",
        "x_test = x_test.reshape(x_test.shape[0], img_x, img_y, channels)\n",
        "\n",
        "cifar10_labels={\n",
        "    0: \"airplane\", \n",
        "    1: \"automobile\", \n",
        "    2: \"bird\",\n",
        "    3: \"cat\",\n",
        "    4: \"deer\",\n",
        "    5: \"dog\",\n",
        "    6: \"frog\",\n",
        "    7: \"horse\",\n",
        "    8: \"ship\",\n",
        "    9: \"truck\"\n",
        "}\n",
        "\n",
        "num_classes = len(cifar10_labels)\n",
        "\n",
        "# convert class vectors to binary class matrices for categorical_crossentropy loss\n",
        "y_train = keras.utils.to_categorical(y_train, num_classes)\n",
        "y_test = keras.utils.to_categorical(y_test, num_classes)\n"
      ],
      "execution_count": 0,
      "outputs": []
    },
    {
      "cell_type": "code",
      "metadata": {
        "id": "HnaM54FkqJ6v",
        "colab_type": "code",
        "outputId": "da046c78-d5a9-4ea4-a6e6-668f7035d353",
        "colab": {
          "base_uri": "https://localhost:8080/",
          "height": 34
        }
      },
      "source": [
        "x_train.shape, y_train.shape"
      ],
      "execution_count": 0,
      "outputs": [
        {
          "output_type": "execute_result",
          "data": {
            "text/plain": [
              "((50000, 32, 32, 3), (50000, 10))"
            ]
          },
          "metadata": {
            "tags": []
          },
          "execution_count": 36
        }
      ]
    },
    {
      "cell_type": "code",
      "metadata": {
        "id": "DUTk6xDZqJ6y",
        "colab_type": "code",
        "outputId": "f6df317d-ca6d-428a-a2ab-fa206d88d57e",
        "colab": {
          "base_uri": "https://localhost:8080/",
          "height": 34
        }
      },
      "source": [
        "x_test.shape, y_test.shape"
      ],
      "execution_count": 0,
      "outputs": [
        {
          "output_type": "execute_result",
          "data": {
            "text/plain": [
              "((10000, 32, 32, 3), (10000, 10))"
            ]
          },
          "metadata": {
            "tags": []
          },
          "execution_count": 37
        }
      ]
    },
    {
      "cell_type": "code",
      "metadata": {
        "id": "jr1CtEekqJ61",
        "colab_type": "code",
        "colab": {}
      },
      "source": [
        ""
      ],
      "execution_count": 0,
      "outputs": []
    },
    {
      "cell_type": "markdown",
      "metadata": {
        "id": "8_xRWJh6SKhV",
        "colab_type": "text"
      },
      "source": [
        "# Converting the images (x_train and x_test) to float32\n"
      ]
    },
    {
      "cell_type": "code",
      "metadata": {
        "id": "oAuHJ-JuqJ64",
        "colab_type": "code",
        "colab": {}
      },
      "source": [
        "new_x_train = np.array(x_train, dtype='f')\n",
        "new_x_test = np.array(x_test, dtype='f')"
      ],
      "execution_count": 0,
      "outputs": []
    },
    {
      "cell_type": "code",
      "metadata": {
        "id": "qA8dHQouzSLU",
        "colab_type": "code",
        "outputId": "5e9a8f5a-64ff-4448-84be-b6b6dda18e0f",
        "colab": {
          "base_uri": "https://localhost:8080/",
          "height": 34
        }
      },
      "source": [
        "new_x_train.dtype, new_x_test.dtype"
      ],
      "execution_count": 0,
      "outputs": [
        {
          "output_type": "execute_result",
          "data": {
            "text/plain": [
              "(dtype('float32'), dtype('float32'))"
            ]
          },
          "metadata": {
            "tags": []
          },
          "execution_count": 5
        }
      ]
    },
    {
      "cell_type": "markdown",
      "metadata": {
        "id": "8PJSfXXOSR3V",
        "colab_type": "text"
      },
      "source": [
        "# Scale the pixel values (x_train and x_test) from range 0..255 to 0..1\n"
      ]
    },
    {
      "cell_type": "code",
      "metadata": {
        "id": "4czubIKlqJ66",
        "colab_type": "code",
        "colab": {}
      },
      "source": [
        "scaled_x_train = new_x_train / 255.0\n",
        "scaled_x_test = new_x_test / 255.0"
      ],
      "execution_count": 0,
      "outputs": []
    },
    {
      "cell_type": "markdown",
      "metadata": {
        "id": "kTJdi6ErSYoa",
        "colab_type": "text"
      },
      "source": [
        "# Model1: Create the CNN architecture provided\n"
      ]
    },
    {
      "cell_type": "code",
      "metadata": {
        "id": "8vl1QdG4qJ68",
        "colab_type": "code",
        "outputId": "4deabc11-aaf9-4d85-cebe-7f08749c08d7",
        "colab": {
          "base_uri": "https://localhost:8080/",
          "height": 88
        }
      },
      "source": [
        "#Layer 1\n",
        "model1 = Sequential()\n",
        "model1.add(Conv2D(32, kernel_size=(3, 3), activation='relu', input_shape=(32, 32, 3)))\n",
        "\n",
        "#Flatten\n",
        "model1.add(Flatten())\n",
        "\n",
        "#Softmax classifier\n",
        "model1.add(Dense(10, activation='softmax'))"
      ],
      "execution_count": 0,
      "outputs": [
        {
          "output_type": "stream",
          "text": [
            "WARNING:tensorflow:From /usr/local/lib/python3.6/dist-packages/tensorflow/python/framework/op_def_library.py:263: colocate_with (from tensorflow.python.framework.ops) is deprecated and will be removed in a future version.\n",
            "Instructions for updating:\n",
            "Colocations handled automatically by placer.\n"
          ],
          "name": "stdout"
        }
      ]
    },
    {
      "cell_type": "markdown",
      "metadata": {
        "id": "RjDUqHCySgkA",
        "colab_type": "text"
      },
      "source": [
        "## Display the layers and the size of the outputs. Should match the architecture provided for Model 1.\n"
      ]
    },
    {
      "cell_type": "code",
      "metadata": {
        "id": "vi8Ko836qJ6-",
        "colab_type": "code",
        "outputId": "f2cf9c05-c2cf-4212-a74f-8fa071c6a1dd",
        "colab": {
          "base_uri": "https://localhost:8080/",
          "height": 238
        }
      },
      "source": [
        "model1.summary()"
      ],
      "execution_count": 0,
      "outputs": [
        {
          "output_type": "stream",
          "text": [
            "_________________________________________________________________\n",
            "Layer (type)                 Output Shape              Param #   \n",
            "=================================================================\n",
            "conv2d_1 (Conv2D)            (None, 30, 30, 32)        896       \n",
            "_________________________________________________________________\n",
            "flatten_1 (Flatten)          (None, 28800)             0         \n",
            "_________________________________________________________________\n",
            "dense_1 (Dense)              (None, 10)                288010    \n",
            "=================================================================\n",
            "Total params: 288,906\n",
            "Trainable params: 288,906\n",
            "Non-trainable params: 0\n",
            "_________________________________________________________________\n"
          ],
          "name": "stdout"
        }
      ]
    },
    {
      "cell_type": "markdown",
      "metadata": {
        "id": "6Pg7yNPrTHCV",
        "colab_type": "text"
      },
      "source": [
        "## Train your model1. You should achieve less than 50% accuracy on the test set."
      ]
    },
    {
      "cell_type": "code",
      "metadata": {
        "id": "SrUCujpUqJ7A",
        "colab_type": "code",
        "outputId": "141ef75e-4963-47fb-a1f1-a13d9069737a",
        "colab": {
          "base_uri": "https://localhost:8080/",
          "height": 428
        }
      },
      "source": [
        "from keras.callbacks import EarlyStopping\n",
        "from keras.optimizers import Adam\n",
        "\n",
        "model1.compile(loss='categorical_crossentropy',\n",
        "                  optimizer=Adam(lr=0.01, decay=1e-6),\n",
        "                  metrics=['accuracy'])\n",
        "\n",
        "model1.fit(scaled_x_train, y_train,\n",
        "              batch_size=128,\n",
        "              shuffle=True,\n",
        "              epochs=15,\n",
        "              validation_data=(scaled_x_test, y_test),\n",
        "              callbacks=[EarlyStopping(min_delta=0.001, patience=3)])"
      ],
      "execution_count": 0,
      "outputs": [
        {
          "output_type": "stream",
          "text": [
            "WARNING:tensorflow:From /usr/local/lib/python3.6/dist-packages/tensorflow/python/ops/math_ops.py:3066: to_int32 (from tensorflow.python.ops.math_ops) is deprecated and will be removed in a future version.\n",
            "Instructions for updating:\n",
            "Use tf.cast instead.\n",
            "Train on 50000 samples, validate on 10000 samples\n",
            "Epoch 1/15\n",
            "50000/50000 [==============================] - 5s 109us/step - loss: 1.9537 - acc: 0.3284 - val_loss: 1.8347 - val_acc: 0.3343\n",
            "Epoch 2/15\n",
            "50000/50000 [==============================] - 3s 53us/step - loss: 1.6605 - acc: 0.4122 - val_loss: 1.8757 - val_acc: 0.3683\n",
            "Epoch 3/15\n",
            "50000/50000 [==============================] - 3s 53us/step - loss: 1.5759 - acc: 0.4415 - val_loss: 1.6798 - val_acc: 0.3944\n",
            "Epoch 4/15\n",
            "50000/50000 [==============================] - 3s 53us/step - loss: 1.5238 - acc: 0.4607 - val_loss: 1.7393 - val_acc: 0.4164\n",
            "Epoch 5/15\n",
            "50000/50000 [==============================] - 3s 53us/step - loss: 1.4883 - acc: 0.4762 - val_loss: 1.5483 - val_acc: 0.4588\n",
            "Epoch 6/15\n",
            "50000/50000 [==============================] - 3s 53us/step - loss: 1.4415 - acc: 0.4928 - val_loss: 1.5284 - val_acc: 0.4589\n",
            "Epoch 7/15\n",
            "50000/50000 [==============================] - 3s 53us/step - loss: 1.4017 - acc: 0.5085 - val_loss: 1.5287 - val_acc: 0.4635\n",
            "Epoch 8/15\n",
            "50000/50000 [==============================] - 3s 53us/step - loss: 1.3767 - acc: 0.5179 - val_loss: 1.5849 - val_acc: 0.4465\n",
            "Epoch 9/15\n",
            "50000/50000 [==============================] - 3s 54us/step - loss: 1.3552 - acc: 0.5273 - val_loss: 1.5933 - val_acc: 0.4592\n"
          ],
          "name": "stdout"
        },
        {
          "output_type": "execute_result",
          "data": {
            "text/plain": [
              "<keras.callbacks.History at 0x7fa6257fa2b0>"
            ]
          },
          "metadata": {
            "tags": []
          },
          "execution_count": 9
        }
      ]
    },
    {
      "cell_type": "markdown",
      "metadata": {
        "id": "Nq22zOMHRI7x",
        "colab_type": "text"
      },
      "source": [
        "## Plot your losses and/or accuracy"
      ]
    },
    {
      "cell_type": "code",
      "metadata": {
        "id": "WqonxHI-qJ7C",
        "colab_type": "code",
        "outputId": "8f785cf1-f089-44f7-fcfb-b15edd2804e0",
        "colab": {
          "base_uri": "https://localhost:8080/",
          "height": 573
        }
      },
      "source": [
        "def plot(model):\n",
        "    # Plot training & validation accuracy values\n",
        "    plt.plot(model.history.history['acc'])\n",
        "    plt.plot(model.history.history['val_acc'])\n",
        "    plt.title('Model accuracy')\n",
        "    plt.ylabel('Accuracy')\n",
        "    plt.xlabel('Epoch')\n",
        "    plt.legend(['Train', 'Test'], loc='upper left')\n",
        "    plt.show()\n",
        "\n",
        "    # Plot training & validation loss values\n",
        "    plt.plot(model.history.history['loss'])\n",
        "    plt.plot(model.history.history['val_loss'])\n",
        "    plt.title('Model loss')\n",
        "    plt.ylabel('Loss')\n",
        "    plt.xlabel('Epoch')\n",
        "    plt.legend(['Train', 'Test'], loc='upper left')\n",
        "    plt.show()\n",
        "plot(model1)"
      ],
      "execution_count": 0,
      "outputs": [
        {
          "output_type": "display_data",
          "data": {
            "image/png": "[encoded data removed]",
            "text/plain": [
              "<Figure size 432x288 with 1 Axes>"
            ]
          },
          "metadata": {
            "tags": []
          }
        },
        {
          "output_type": "display_data",
          "data": {
            "image/png": "[encoded data removed]",
            "text/plain": [
              "<Figure size 432x288 with 1 Axes>"
            ]
          },
          "metadata": {
            "tags": []
          }
        }
      ]
    },
    {
      "cell_type": "markdown",
      "metadata": {
        "id": "Qzs77pLRTXvG",
        "colab_type": "text"
      },
      "source": [
        "# Model 2: Modify the model by adding at least one more layer consisting of convolutions and MaxPooling. "
      ]
    },
    {
      "cell_type": "code",
      "metadata": {
        "id": "-EGIcvCOqJ7F",
        "colab_type": "code",
        "outputId": "ac57c544-95f2-470d-b576-1fa16e1272c6",
        "colab": {
          "base_uri": "https://localhost:8080/",
          "height": 340
        }
      },
      "source": [
        "#Creating the model with one more conv layer, maxpooling \n",
        "model2 = Sequential()\n",
        "\n",
        "model2.add(Conv2D(32, kernel_size=(3, 3), activation='relu', input_shape=(32, 32, 3)))\n",
        "model2.add(Conv2D(64, kernel_size=(3, 3), activation='relu'))\n",
        "model2.add(MaxPooling2D(pool_size=(2, 2)))\n",
        "model2.add(Dropout(0.25))\n",
        "\n",
        "#Flatten\n",
        "model2.add(Flatten())\n",
        "\n",
        "model2.add(Dense(10, activation='softmax'))\n",
        "\n",
        "model2.summary()"
      ],
      "execution_count": 0,
      "outputs": [
        {
          "output_type": "stream",
          "text": [
            "_________________________________________________________________\n",
            "Layer (type)                 Output Shape              Param #   \n",
            "=================================================================\n",
            "conv2d_8 (Conv2D)            (None, 30, 30, 32)        896       \n",
            "_________________________________________________________________\n",
            "conv2d_9 (Conv2D)            (None, 28, 28, 64)        18496     \n",
            "_________________________________________________________________\n",
            "max_pooling2d_4 (MaxPooling2 (None, 14, 14, 64)        0         \n",
            "_________________________________________________________________\n",
            "dropout_7 (Dropout)          (None, 14, 14, 64)        0         \n",
            "_________________________________________________________________\n",
            "flatten_8 (Flatten)          (None, 12544)             0         \n",
            "_________________________________________________________________\n",
            "dense_14 (Dense)             (None, 10)                125450    \n",
            "=================================================================\n",
            "Total params: 144,842\n",
            "Trainable params: 144,842\n",
            "Non-trainable params: 0\n",
            "_________________________________________________________________\n"
          ],
          "name": "stdout"
        }
      ]
    },
    {
      "cell_type": "markdown",
      "metadata": {
        "id": "Yjs71ln8WVB2",
        "colab_type": "text"
      },
      "source": [
        "## Model2: Training"
      ]
    },
    {
      "cell_type": "code",
      "metadata": {
        "id": "icgrzydGTjBy",
        "colab_type": "code",
        "outputId": "a7b1877c-9ad2-481d-9b3c-eccaa0840887",
        "colab": {
          "base_uri": "https://localhost:8080/",
          "height": 1751
        }
      },
      "source": [
        "# Compile the model\n",
        "model2.compile(loss='categorical_crossentropy',\n",
        "                  optimizer=Adam(lr=0.0001, decay=1e-6),\n",
        "                  metrics=['accuracy'])\n",
        "# training\n",
        "model2.fit(scaled_x_train, y_train,\n",
        "              batch_size=128,\n",
        "              shuffle=True,\n",
        "              epochs=50,\n",
        "              validation_data=(scaled_x_test, y_test),\n",
        "              callbacks=[EarlyStopping(min_delta=0.001, patience=3)])"
      ],
      "execution_count": 0,
      "outputs": [
        {
          "output_type": "stream",
          "text": [
            "Train on 50000 samples, validate on 10000 samples\n",
            "Epoch 1/50\n",
            "50000/50000 [==============================] - 5s 108us/step - loss: 1.8711 - acc: 0.3406 - val_loss: 1.6285 - val_acc: 0.4380\n",
            "Epoch 2/50\n",
            "50000/50000 [==============================] - 5s 96us/step - loss: 1.5658 - acc: 0.4514 - val_loss: 1.4945 - val_acc: 0.4743\n",
            "Epoch 3/50\n",
            "50000/50000 [==============================] - 5s 96us/step - loss: 1.4536 - acc: 0.4914 - val_loss: 1.4068 - val_acc: 0.5092\n",
            "Epoch 4/50\n",
            "50000/50000 [==============================] - 5s 95us/step - loss: 1.3724 - acc: 0.5207 - val_loss: 1.3433 - val_acc: 0.5306\n",
            "Epoch 5/50\n",
            "50000/50000 [==============================] - 5s 95us/step - loss: 1.3118 - acc: 0.5443 - val_loss: 1.2864 - val_acc: 0.5566\n",
            "Epoch 6/50\n",
            "50000/50000 [==============================] - 5s 95us/step - loss: 1.2618 - acc: 0.5623 - val_loss: 1.2470 - val_acc: 0.5696\n",
            "Epoch 7/50\n",
            "50000/50000 [==============================] - 5s 96us/step - loss: 1.2224 - acc: 0.5782 - val_loss: 1.2177 - val_acc: 0.5786\n",
            "Epoch 8/50\n",
            "50000/50000 [==============================] - 5s 96us/step - loss: 1.1908 - acc: 0.5881 - val_loss: 1.2014 - val_acc: 0.5828\n",
            "Epoch 9/50\n",
            "50000/50000 [==============================] - 5s 95us/step - loss: 1.1624 - acc: 0.5992 - val_loss: 1.1727 - val_acc: 0.5964\n",
            "Epoch 10/50\n",
            "50000/50000 [==============================] - 5s 96us/step - loss: 1.1364 - acc: 0.6095 - val_loss: 1.1495 - val_acc: 0.6041\n",
            "Epoch 11/50\n",
            "50000/50000 [==============================] - 5s 95us/step - loss: 1.1146 - acc: 0.6177 - val_loss: 1.1283 - val_acc: 0.6093\n",
            "Epoch 12/50\n",
            "50000/50000 [==============================] - 5s 95us/step - loss: 1.0940 - acc: 0.6246 - val_loss: 1.1089 - val_acc: 0.6158\n",
            "Epoch 13/50\n",
            "50000/50000 [==============================] - 5s 95us/step - loss: 1.0759 - acc: 0.6321 - val_loss: 1.1175 - val_acc: 0.6169\n",
            "Epoch 14/50\n",
            "50000/50000 [==============================] - 5s 95us/step - loss: 1.0583 - acc: 0.6359 - val_loss: 1.0905 - val_acc: 0.6243\n",
            "Epoch 15/50\n",
            "50000/50000 [==============================] - 5s 95us/step - loss: 1.0418 - acc: 0.6432 - val_loss: 1.0834 - val_acc: 0.6303\n",
            "Epoch 16/50\n",
            "50000/50000 [==============================] - 5s 95us/step - loss: 1.0282 - acc: 0.6467 - val_loss: 1.0633 - val_acc: 0.6341\n",
            "Epoch 17/50\n",
            "50000/50000 [==============================] - 5s 95us/step - loss: 1.0125 - acc: 0.6542 - val_loss: 1.0556 - val_acc: 0.6370\n",
            "Epoch 18/50\n",
            "50000/50000 [==============================] - 5s 95us/step - loss: 1.0001 - acc: 0.6584 - val_loss: 1.0502 - val_acc: 0.6374\n",
            "Epoch 19/50\n",
            "50000/50000 [==============================] - 5s 95us/step - loss: 0.9873 - acc: 0.6632 - val_loss: 1.0428 - val_acc: 0.6433\n",
            "Epoch 20/50\n",
            "50000/50000 [==============================] - 5s 95us/step - loss: 0.9762 - acc: 0.6669 - val_loss: 1.0261 - val_acc: 0.6448\n",
            "Epoch 21/50\n",
            "50000/50000 [==============================] - 5s 95us/step - loss: 0.9643 - acc: 0.6706 - val_loss: 1.0231 - val_acc: 0.6445\n",
            "Epoch 22/50\n",
            "50000/50000 [==============================] - 5s 95us/step - loss: 0.9534 - acc: 0.6742 - val_loss: 1.0188 - val_acc: 0.6477\n",
            "Epoch 23/50\n",
            "50000/50000 [==============================] - 5s 95us/step - loss: 0.9427 - acc: 0.6765 - val_loss: 1.0139 - val_acc: 0.6524\n",
            "Epoch 24/50\n",
            "50000/50000 [==============================] - 5s 95us/step - loss: 0.9342 - acc: 0.6809 - val_loss: 1.0137 - val_acc: 0.6522\n",
            "Epoch 25/50\n",
            "50000/50000 [==============================] - 5s 97us/step - loss: 0.9281 - acc: 0.6832 - val_loss: 1.0104 - val_acc: 0.6531\n",
            "Epoch 26/50\n",
            "50000/50000 [==============================] - 5s 96us/step - loss: 0.9214 - acc: 0.6855 - val_loss: 0.9956 - val_acc: 0.6556\n",
            "Epoch 27/50\n",
            "50000/50000 [==============================] - 5s 96us/step - loss: 0.9122 - acc: 0.6879 - val_loss: 0.9969 - val_acc: 0.6546\n",
            "Epoch 28/50\n",
            "50000/50000 [==============================] - 5s 95us/step - loss: 0.9033 - acc: 0.6912 - val_loss: 0.9939 - val_acc: 0.6558\n",
            "Epoch 29/50\n",
            "50000/50000 [==============================] - 5s 95us/step - loss: 0.8963 - acc: 0.6963 - val_loss: 0.9821 - val_acc: 0.6611\n",
            "Epoch 30/50\n",
            "50000/50000 [==============================] - 5s 95us/step - loss: 0.8892 - acc: 0.6961 - val_loss: 0.9716 - val_acc: 0.6662\n",
            "Epoch 31/50\n",
            "50000/50000 [==============================] - 5s 96us/step - loss: 0.8820 - acc: 0.6978 - val_loss: 0.9764 - val_acc: 0.6629\n",
            "Epoch 32/50\n",
            "50000/50000 [==============================] - 5s 95us/step - loss: 0.8755 - acc: 0.7009 - val_loss: 0.9664 - val_acc: 0.6637\n",
            "Epoch 33/50\n",
            "50000/50000 [==============================] - 5s 95us/step - loss: 0.8722 - acc: 0.7008 - val_loss: 0.9755 - val_acc: 0.6655\n",
            "Epoch 34/50\n",
            "50000/50000 [==============================] - 5s 95us/step - loss: 0.8647 - acc: 0.7041 - val_loss: 0.9588 - val_acc: 0.6688\n",
            "Epoch 35/50\n",
            "50000/50000 [==============================] - 5s 95us/step - loss: 0.8580 - acc: 0.7072 - val_loss: 0.9724 - val_acc: 0.6669\n",
            "Epoch 36/50\n",
            "50000/50000 [==============================] - 5s 95us/step - loss: 0.8504 - acc: 0.7093 - val_loss: 0.9601 - val_acc: 0.6692\n",
            "Epoch 37/50\n",
            "50000/50000 [==============================] - 5s 95us/step - loss: 0.8452 - acc: 0.7116 - val_loss: 0.9570 - val_acc: 0.6696\n",
            "Epoch 38/50\n",
            "50000/50000 [==============================] - 5s 94us/step - loss: 0.8426 - acc: 0.7128 - val_loss: 0.9581 - val_acc: 0.6699\n",
            "Epoch 39/50\n",
            "50000/50000 [==============================] - 5s 94us/step - loss: 0.8373 - acc: 0.7121 - val_loss: 0.9535 - val_acc: 0.6719\n",
            "Epoch 40/50\n",
            "50000/50000 [==============================] - 5s 95us/step - loss: 0.8306 - acc: 0.7165 - val_loss: 0.9474 - val_acc: 0.6741\n",
            "Epoch 41/50\n",
            "50000/50000 [==============================] - 5s 95us/step - loss: 0.8237 - acc: 0.7180 - val_loss: 0.9609 - val_acc: 0.6691\n",
            "Epoch 42/50\n",
            "50000/50000 [==============================] - 5s 95us/step - loss: 0.8219 - acc: 0.7180 - val_loss: 0.9411 - val_acc: 0.6745\n",
            "Epoch 43/50\n",
            "50000/50000 [==============================] - 5s 94us/step - loss: 0.8166 - acc: 0.7198 - val_loss: 0.9476 - val_acc: 0.6743\n",
            "Epoch 44/50\n",
            "50000/50000 [==============================] - 5s 95us/step - loss: 0.8106 - acc: 0.7240 - val_loss: 0.9404 - val_acc: 0.6752\n",
            "Epoch 45/50\n",
            "50000/50000 [==============================] - 5s 94us/step - loss: 0.8085 - acc: 0.7239 - val_loss: 0.9363 - val_acc: 0.6777\n",
            "Epoch 46/50\n",
            "50000/50000 [==============================] - 5s 94us/step - loss: 0.7996 - acc: 0.7271 - val_loss: 0.9434 - val_acc: 0.6744\n",
            "Epoch 47/50\n",
            "50000/50000 [==============================] - 5s 95us/step - loss: 0.7975 - acc: 0.7283 - val_loss: 0.9319 - val_acc: 0.6769\n",
            "Epoch 48/50\n",
            "50000/50000 [==============================] - 5s 94us/step - loss: 0.7938 - acc: 0.7291 - val_loss: 0.9340 - val_acc: 0.6753\n",
            "Epoch 49/50\n",
            "50000/50000 [==============================] - 5s 95us/step - loss: 0.7907 - acc: 0.7285 - val_loss: 0.9345 - val_acc: 0.6762\n",
            "Epoch 50/50\n",
            "50000/50000 [==============================] - 5s 94us/step - loss: 0.7866 - acc: 0.7337 - val_loss: 0.9307 - val_acc: 0.6786\n"
          ],
          "name": "stdout"
        },
        {
          "output_type": "execute_result",
          "data": {
            "text/plain": [
              "<keras.callbacks.History at 0x7fa4e7c20710>"
            ]
          },
          "metadata": {
            "tags": []
          },
          "execution_count": 45
        }
      ]
    },
    {
      "cell_type": "markdown",
      "metadata": {
        "id": "hftHGMTpTj1K",
        "colab_type": "text"
      },
      "source": [
        "## Model2: Plot losses and/or accuracy"
      ]
    },
    {
      "cell_type": "code",
      "metadata": {
        "id": "-wGZm_lbTjFk",
        "colab_type": "code",
        "outputId": "290cf3a8-73a5-4ab0-b690-32df63de68be",
        "colab": {
          "base_uri": "https://localhost:8080/",
          "height": 573
        }
      },
      "source": [
        "plot(model2)"
      ],
      "execution_count": 0,
      "outputs": [
        {
          "output_type": "display_data",
          "data": {
            "image/png": "[encoded data removed]",
            "text/plain": [
              "<Figure size 432x288 with 1 Axes>"
            ]
          },
          "metadata": {
            "tags": []
          }
        },
        {
          "output_type": "display_data",
          "data": {
            "image/png": "[encoded data removed]",
            "text/plain": [
              "<Figure size 432x288 with 1 Axes>"
            ]
          },
          "metadata": {
            "tags": []
          }
        }
      ]
    },
    {
      "cell_type": "markdown",
      "metadata": {
        "id": "hJMmaLw-WhyM",
        "colab_type": "text"
      },
      "source": [
        "# Model3: Find the smallest model you can that achieves 99% accuracy or better. "
      ]
    },
    {
      "cell_type": "code",
      "metadata": {
        "scrolled": false,
        "id": "-27rj-PrqJ7H",
        "colab_type": "code",
        "outputId": "bf530b8f-f45d-4bee-af3c-e6c63b521c1c",
        "colab": {
          "base_uri": "https://localhost:8080/",
          "height": 578
        }
      },
      "source": [
        "#Creating the model with one more conv layer, maxpooling \n",
        "model3 = Sequential()\n",
        "\n",
        "model3.add(Conv2D(32, kernel_size=(3, 3), activation='relu', input_shape=(32, 32, 3)))\n",
        "model3.add(Conv2D(64, kernel_size=(3, 3), activation='relu'))\n",
        "model3.add(MaxPooling2D(pool_size=(2, 2)))\n",
        "model3.add(Dropout(0.25))\n",
        "\n",
        "model3.add(Conv2D(128, kernel_size=(3, 3), activation='relu'))\n",
        "model3.add(MaxPooling2D(pool_size=(2, 2)))\n",
        "model3.add(Conv2D(128, kernel_size=(3, 3), activation='relu'))\n",
        "model3.add(MaxPooling2D(pool_size=(2, 2)))\n",
        "model3.add(Dropout(0.25))\n",
        "\n",
        "model3.add(Flatten())\n",
        "model3.add(Dense(1024, activation='relu'))\n",
        "model3.add(Dropout(0.5))\n",
        "model3.add(Dense(10, activation='softmax'))\n",
        "\n",
        "\n",
        "# #Flatten\n",
        "# model3.add(Flatten())\n",
        "\n",
        "# model3.add(Dense(10, activation='softmax'))\n",
        "\n",
        "model3.summary()\n"
      ],
      "execution_count": 0,
      "outputs": [
        {
          "output_type": "stream",
          "text": [
            "_________________________________________________________________\n",
            "Layer (type)                 Output Shape              Param #   \n",
            "=================================================================\n",
            "conv2d_10 (Conv2D)           (None, 30, 30, 32)        896       \n",
            "_________________________________________________________________\n",
            "conv2d_11 (Conv2D)           (None, 28, 28, 64)        18496     \n",
            "_________________________________________________________________\n",
            "max_pooling2d_5 (MaxPooling2 (None, 14, 14, 64)        0         \n",
            "_________________________________________________________________\n",
            "dropout_8 (Dropout)          (None, 14, 14, 64)        0         \n",
            "_________________________________________________________________\n",
            "conv2d_12 (Conv2D)           (None, 12, 12, 128)       73856     \n",
            "_________________________________________________________________\n",
            "max_pooling2d_6 (MaxPooling2 (None, 6, 6, 128)         0         \n",
            "_________________________________________________________________\n",
            "conv2d_13 (Conv2D)           (None, 4, 4, 128)         147584    \n",
            "_________________________________________________________________\n",
            "max_pooling2d_7 (MaxPooling2 (None, 2, 2, 128)         0         \n",
            "_________________________________________________________________\n",
            "dropout_9 (Dropout)          (None, 2, 2, 128)         0         \n",
            "_________________________________________________________________\n",
            "flatten_9 (Flatten)          (None, 512)               0         \n",
            "_________________________________________________________________\n",
            "dense_15 (Dense)             (None, 1024)              525312    \n",
            "_________________________________________________________________\n",
            "dropout_10 (Dropout)         (None, 1024)              0         \n",
            "_________________________________________________________________\n",
            "dense_16 (Dense)             (None, 10)                10250     \n",
            "=================================================================\n",
            "Total params: 776,394\n",
            "Trainable params: 776,394\n",
            "Non-trainable params: 0\n",
            "_________________________________________________________________\n"
          ],
          "name": "stdout"
        }
      ]
    },
    {
      "cell_type": "markdown",
      "metadata": {
        "id": "0SuYvRoLXPto",
        "colab_type": "text"
      },
      "source": [
        "## Model3: training"
      ]
    },
    {
      "cell_type": "code",
      "metadata": {
        "id": "6jivFtMMXQGs",
        "colab_type": "code",
        "outputId": "3bc0b381-4645-4332-de4f-2aeec3ee4889",
        "colab": {
          "base_uri": "https://localhost:8080/",
          "height": 1717
        }
      },
      "source": [
        "# Compile the model\n",
        "model3.compile(loss='categorical_crossentropy',\n",
        "              optimizer=Adam(lr=0.0001, decay=1e-6),\n",
        "              metrics=['accuracy'])\n",
        "\n",
        "# training\n",
        "model3.fit(scaled_x_train, y_train,\n",
        "              batch_size=128,\n",
        "              shuffle=True,\n",
        "              epochs=150,\n",
        "              validation_data=(scaled_x_test, y_test),\n",
        "              callbacks=[EarlyStopping(min_delta=0.001, patience=3)])"
      ],
      "execution_count": 0,
      "outputs": [
        {
          "output_type": "stream",
          "text": [
            "Train on 50000 samples, validate on 10000 samples\n",
            "Epoch 1/150\n",
            "50000/50000 [==============================] - 7s 144us/step - loss: 2.0023 - acc: 0.2486 - val_loss: 1.7467 - val_acc: 0.3638\n",
            "Epoch 2/150\n",
            "50000/50000 [==============================] - 6s 128us/step - loss: 1.6703 - acc: 0.3774 - val_loss: 1.5339 - val_acc: 0.4444\n",
            "Epoch 3/150\n",
            "50000/50000 [==============================] - 6s 128us/step - loss: 1.5249 - acc: 0.4375 - val_loss: 1.4263 - val_acc: 0.4899\n",
            "Epoch 4/150\n",
            "50000/50000 [==============================] - 6s 128us/step - loss: 1.4357 - acc: 0.4745 - val_loss: 1.3414 - val_acc: 0.5242\n",
            "Epoch 5/150\n",
            "50000/50000 [==============================] - 6s 128us/step - loss: 1.3694 - acc: 0.5024 - val_loss: 1.2749 - val_acc: 0.5422\n",
            "Epoch 6/150\n",
            "50000/50000 [==============================] - 6s 128us/step - loss: 1.3089 - acc: 0.5280 - val_loss: 1.2326 - val_acc: 0.5703\n",
            "Epoch 7/150\n",
            "50000/50000 [==============================] - 6s 127us/step - loss: 1.2567 - acc: 0.5474 - val_loss: 1.1672 - val_acc: 0.5895\n",
            "Epoch 8/150\n",
            "50000/50000 [==============================] - 6s 128us/step - loss: 1.2090 - acc: 0.5663 - val_loss: 1.1259 - val_acc: 0.6028\n",
            "Epoch 9/150\n",
            "50000/50000 [==============================] - 6s 128us/step - loss: 1.1698 - acc: 0.5858 - val_loss: 1.0945 - val_acc: 0.6126\n",
            "Epoch 10/150\n",
            "50000/50000 [==============================] - 6s 128us/step - loss: 1.1288 - acc: 0.5993 - val_loss: 1.0643 - val_acc: 0.6251\n",
            "Epoch 11/150\n",
            "50000/50000 [==============================] - 6s 127us/step - loss: 1.0969 - acc: 0.6112 - val_loss: 1.0507 - val_acc: 0.6292\n",
            "Epoch 12/150\n",
            "50000/50000 [==============================] - 6s 128us/step - loss: 1.0716 - acc: 0.6197 - val_loss: 1.0355 - val_acc: 0.6386\n",
            "Epoch 13/150\n",
            "50000/50000 [==============================] - 6s 127us/step - loss: 1.0375 - acc: 0.6351 - val_loss: 0.9891 - val_acc: 0.6537\n",
            "Epoch 14/150\n",
            "50000/50000 [==============================] - 6s 127us/step - loss: 1.0098 - acc: 0.6422 - val_loss: 0.9728 - val_acc: 0.6538\n",
            "Epoch 15/150\n",
            "50000/50000 [==============================] - 6s 128us/step - loss: 0.9881 - acc: 0.6519 - val_loss: 0.9451 - val_acc: 0.6660\n",
            "Epoch 16/150\n",
            "50000/50000 [==============================] - 6s 127us/step - loss: 0.9628 - acc: 0.6604 - val_loss: 0.9135 - val_acc: 0.6812\n",
            "Epoch 17/150\n",
            "50000/50000 [==============================] - 6s 128us/step - loss: 0.9419 - acc: 0.6698 - val_loss: 0.8841 - val_acc: 0.6858\n",
            "Epoch 18/150\n",
            "50000/50000 [==============================] - 6s 128us/step - loss: 0.9204 - acc: 0.6757 - val_loss: 0.8852 - val_acc: 0.6859\n",
            "Epoch 19/150\n",
            "50000/50000 [==============================] - 6s 128us/step - loss: 0.9005 - acc: 0.6847 - val_loss: 0.8486 - val_acc: 0.7022\n",
            "Epoch 20/150\n",
            "50000/50000 [==============================] - 6s 128us/step - loss: 0.8836 - acc: 0.6896 - val_loss: 0.8330 - val_acc: 0.7046\n",
            "Epoch 21/150\n",
            "50000/50000 [==============================] - 6s 129us/step - loss: 0.8619 - acc: 0.6961 - val_loss: 0.8272 - val_acc: 0.7098\n",
            "Epoch 22/150\n",
            "50000/50000 [==============================] - 6s 128us/step - loss: 0.8450 - acc: 0.7045 - val_loss: 0.8077 - val_acc: 0.7131\n",
            "Epoch 23/150\n",
            "50000/50000 [==============================] - 6s 129us/step - loss: 0.8299 - acc: 0.7083 - val_loss: 0.8040 - val_acc: 0.7179\n",
            "Epoch 24/150\n",
            "50000/50000 [==============================] - 6s 127us/step - loss: 0.8185 - acc: 0.7150 - val_loss: 0.7932 - val_acc: 0.7194\n",
            "Epoch 25/150\n",
            "50000/50000 [==============================] - 6s 127us/step - loss: 0.8014 - acc: 0.7190 - val_loss: 0.7725 - val_acc: 0.7301\n",
            "Epoch 26/150\n",
            "50000/50000 [==============================] - 6s 127us/step - loss: 0.7903 - acc: 0.7228 - val_loss: 0.7741 - val_acc: 0.7284\n",
            "Epoch 27/150\n",
            "50000/50000 [==============================] - 6s 127us/step - loss: 0.7770 - acc: 0.7296 - val_loss: 0.7738 - val_acc: 0.7270\n",
            "Epoch 28/150\n",
            "50000/50000 [==============================] - 6s 127us/step - loss: 0.7582 - acc: 0.7346 - val_loss: 0.7445 - val_acc: 0.7435\n",
            "Epoch 29/150\n",
            "50000/50000 [==============================] - 6s 127us/step - loss: 0.7482 - acc: 0.7384 - val_loss: 0.7361 - val_acc: 0.7426\n",
            "Epoch 30/150\n",
            "50000/50000 [==============================] - 6s 128us/step - loss: 0.7352 - acc: 0.7423 - val_loss: 0.7230 - val_acc: 0.7450\n",
            "Epoch 31/150\n",
            "50000/50000 [==============================] - 6s 128us/step - loss: 0.7234 - acc: 0.7475 - val_loss: 0.7180 - val_acc: 0.7497\n",
            "Epoch 32/150\n",
            "50000/50000 [==============================] - 6s 127us/step - loss: 0.7141 - acc: 0.7494 - val_loss: 0.7100 - val_acc: 0.7529\n",
            "Epoch 33/150\n",
            "50000/50000 [==============================] - 6s 128us/step - loss: 0.6990 - acc: 0.7552 - val_loss: 0.7072 - val_acc: 0.7524\n",
            "Epoch 34/150\n",
            "50000/50000 [==============================] - 6s 128us/step - loss: 0.6913 - acc: 0.7581 - val_loss: 0.6931 - val_acc: 0.7577\n",
            "Epoch 35/150\n",
            "50000/50000 [==============================] - 6s 127us/step - loss: 0.6803 - acc: 0.7622 - val_loss: 0.6797 - val_acc: 0.7604\n",
            "Epoch 36/150\n",
            "50000/50000 [==============================] - 6s 127us/step - loss: 0.6690 - acc: 0.7651 - val_loss: 0.6773 - val_acc: 0.7643\n",
            "Epoch 37/150\n",
            "50000/50000 [==============================] - 6s 127us/step - loss: 0.6643 - acc: 0.7674 - val_loss: 0.6888 - val_acc: 0.7578\n",
            "Epoch 38/150\n",
            "50000/50000 [==============================] - 6s 127us/step - loss: 0.6540 - acc: 0.7698 - val_loss: 0.6697 - val_acc: 0.7648\n",
            "Epoch 39/150\n",
            "50000/50000 [==============================] - 6s 128us/step - loss: 0.6366 - acc: 0.7771 - val_loss: 0.6876 - val_acc: 0.7589\n",
            "Epoch 40/150\n",
            "50000/50000 [==============================] - 6s 128us/step - loss: 0.6336 - acc: 0.7767 - val_loss: 0.6556 - val_acc: 0.7705\n",
            "Epoch 41/150\n",
            "50000/50000 [==============================] - 6s 128us/step - loss: 0.6213 - acc: 0.7825 - val_loss: 0.6606 - val_acc: 0.7703\n",
            "Epoch 42/150\n",
            "50000/50000 [==============================] - 6s 127us/step - loss: 0.6140 - acc: 0.7850 - val_loss: 0.6485 - val_acc: 0.7756\n",
            "Epoch 43/150\n",
            "50000/50000 [==============================] - 6s 127us/step - loss: 0.6060 - acc: 0.7866 - val_loss: 0.6439 - val_acc: 0.7737\n",
            "Epoch 44/150\n",
            "50000/50000 [==============================] - 6s 128us/step - loss: 0.5980 - acc: 0.7908 - val_loss: 0.6409 - val_acc: 0.7752\n",
            "Epoch 45/150\n",
            "50000/50000 [==============================] - 6s 128us/step - loss: 0.5900 - acc: 0.7939 - val_loss: 0.6396 - val_acc: 0.7793\n",
            "Epoch 46/150\n",
            "50000/50000 [==============================] - 6s 129us/step - loss: 0.5791 - acc: 0.7967 - val_loss: 0.6289 - val_acc: 0.7816\n",
            "Epoch 47/150\n",
            "50000/50000 [==============================] - 6s 128us/step - loss: 0.5749 - acc: 0.8015 - val_loss: 0.6308 - val_acc: 0.7819\n",
            "Epoch 48/150\n",
            "50000/50000 [==============================] - 6s 130us/step - loss: 0.5675 - acc: 0.8008 - val_loss: 0.6333 - val_acc: 0.7784\n",
            "Epoch 49/150\n",
            "50000/50000 [==============================] - 6s 128us/step - loss: 0.5596 - acc: 0.8037 - val_loss: 0.6323 - val_acc: 0.7835\n"
          ],
          "name": "stdout"
        },
        {
          "output_type": "execute_result",
          "data": {
            "text/plain": [
              "<keras.callbacks.History at 0x7fa4e7588860>"
            ]
          },
          "metadata": {
            "tags": []
          },
          "execution_count": 48
        }
      ]
    },
    {
      "cell_type": "markdown",
      "metadata": {
        "id": "PdyXGciMXso-",
        "colab_type": "text"
      },
      "source": [
        "## Model3: Plot losses and/or accuracy"
      ]
    },
    {
      "cell_type": "code",
      "metadata": {
        "id": "g6C05fJmXs2W",
        "colab_type": "code",
        "outputId": "707082c0-05b9-4569-f8b1-be07cc5cd450",
        "colab": {
          "base_uri": "https://localhost:8080/",
          "height": 573
        }
      },
      "source": [
        "plot(model2)"
      ],
      "execution_count": 0,
      "outputs": [
        {
          "output_type": "display_data",
          "data": {
            "image/png": "[encoded data removed]",
            "text/plain": [
              "<Figure size 432x288 with 1 Axes>"
            ]
          },
          "metadata": {
            "tags": []
          }
        },
        {
          "output_type": "display_data",
          "data": {
            "image/png": "[encoded data removed]",
            "text/plain": [
              "<Figure size 432x288 with 1 Axes>"
            ]
          },
          "metadata": {
            "tags": []
          }
        }
      ]
    },
    {
      "cell_type": "markdown",
      "metadata": {
        "id": "aFmv3zMCY9qH",
        "colab_type": "text"
      },
      "source": [
        "# Make a prediction on one of the test images. Sample code is below. Modify as needed.\n"
      ]
    },
    {
      "cell_type": "code",
      "metadata": {
        "id": "NQaWGqyWqJ7J",
        "colab_type": "code",
        "outputId": "8d274dfa-9053-4aca-ab27-5fbf8f6b566e",
        "colab": {
          "base_uri": "https://localhost:8080/",
          "height": 354
        }
      },
      "source": [
        "\n",
        "input_image_index = 0\n",
        "print(x_test[input_image_index,:,:,:].shape)\n",
        "\n",
        "plt.imshow(x_test[input_image_index,:,:,:])\n",
        "plt.show()\n",
        "\n",
        "print(\"y=\", y_test[input_image_index])\n",
        "print()\n",
        "\n",
        "predictions = model3.predict_classes(x_test[input_image_index:])[0:10]\n",
        "# print(predictions)\n",
        "print()\n",
        "\n",
        "for i, prediction in enumerate(predictions):\n",
        "    if i==input_image_index:\n",
        "      print(\"img belogs to the following class index:\",prediction) \n"
      ],
      "execution_count": 0,
      "outputs": [
        {
          "output_type": "stream",
          "text": [
            "(32, 32, 3)\n"
          ],
          "name": "stdout"
        },
        {
          "output_type": "display_data",
          "data": {
            "image/png": "[encoded data removed]",
            "text/plain": [
              "<Figure size 432x288 with 1 Axes>"
            ]
          },
          "metadata": {
            "tags": []
          }
        },
        {
          "output_type": "stream",
          "text": [
            "y= [0. 0. 0. 1. 0. 0. 0. 0. 0. 0.]\n",
            "\n",
            "\n",
            "img belogs to the following class index: 3\n"
          ],
          "name": "stdout"
        }
      ]
    },
    {
      "cell_type": "markdown",
      "metadata": {
        "id": "m8s37TwmQt9e",
        "colab_type": "text"
      },
      "source": [
        "# TODO: Transfer Learning (VGG16)\n"
      ]
    },
    {
      "cell_type": "code",
      "metadata": {
        "id": "Sxg-p8wVqJ7L",
        "colab_type": "code",
        "colab": {}
      },
      "source": [
        "# Choose any image classification model you want (ResNEt, MobileNet, VGG, etc) \n",
        "# from ny framework (TensorFlow, Keras, etc.). Find wights for it. Retrain it on the Cifar10 dataset. \n",
        "# You may have to chanege the finaly kayer to output 10 classes.\n",
        "\n",
        "# Using VGG16\n",
        "from keras.applications import VGG16\n",
        "conv_base = VGG16(weights='imagenet',\n",
        "include_top=False,\n",
        "input_shape=(32, 32, 3))\n",
        "\n"
      ],
      "execution_count": 0,
      "outputs": []
    },
    {
      "cell_type": "code",
      "metadata": {
        "id": "rDhvZI1z3GiA",
        "colab_type": "code",
        "outputId": "03b4d42a-096b-4804-a206-68ea48befa73",
        "colab": {
          "base_uri": "https://localhost:8080/",
          "height": 782
        }
      },
      "source": [
        "conv_base.summary()\n"
      ],
      "execution_count": 0,
      "outputs": [
        {
          "output_type": "stream",
          "text": [
            "_________________________________________________________________\n",
            "Layer (type)                 Output Shape              Param #   \n",
            "=================================================================\n",
            "input_2 (InputLayer)         (None, 32, 32, 3)         0         \n",
            "_________________________________________________________________\n",
            "block1_conv1 (Conv2D)        (None, 32, 32, 64)        1792      \n",
            "_________________________________________________________________\n",
            "block1_conv2 (Conv2D)        (None, 32, 32, 64)        36928     \n",
            "_________________________________________________________________\n",
            "block1_pool (MaxPooling2D)   (None, 16, 16, 64)        0         \n",
            "_________________________________________________________________\n",
            "block2_conv1 (Conv2D)        (None, 16, 16, 128)       73856     \n",
            "_________________________________________________________________\n",
            "block2_conv2 (Conv2D)        (None, 16, 16, 128)       147584    \n",
            "_________________________________________________________________\n",
            "block2_pool (MaxPooling2D)   (None, 8, 8, 128)         0         \n",
            "_________________________________________________________________\n",
            "block3_conv1 (Conv2D)        (None, 8, 8, 256)         295168    \n",
            "_________________________________________________________________\n",
            "block3_conv2 (Conv2D)        (None, 8, 8, 256)         590080    \n",
            "_________________________________________________________________\n",
            "block3_conv3 (Conv2D)        (None, 8, 8, 256)         590080    \n",
            "_________________________________________________________________\n",
            "block3_pool (MaxPooling2D)   (None, 4, 4, 256)         0         \n",
            "_________________________________________________________________\n",
            "block4_conv1 (Conv2D)        (None, 4, 4, 512)         1180160   \n",
            "_________________________________________________________________\n",
            "block4_conv2 (Conv2D)        (None, 4, 4, 512)         2359808   \n",
            "_________________________________________________________________\n",
            "block4_conv3 (Conv2D)        (None, 4, 4, 512)         2359808   \n",
            "_________________________________________________________________\n",
            "block4_pool (MaxPooling2D)   (None, 2, 2, 512)         0         \n",
            "_________________________________________________________________\n",
            "block5_conv1 (Conv2D)        (None, 2, 2, 512)         2359808   \n",
            "_________________________________________________________________\n",
            "block5_conv2 (Conv2D)        (None, 2, 2, 512)         2359808   \n",
            "_________________________________________________________________\n",
            "block5_conv3 (Conv2D)        (None, 2, 2, 512)         2359808   \n",
            "_________________________________________________________________\n",
            "block5_pool (MaxPooling2D)   (None, 1, 1, 512)         0         \n",
            "=================================================================\n",
            "Total params: 14,714,688\n",
            "Trainable params: 14,714,688\n",
            "Non-trainable params: 0\n",
            "_________________________________________________________________\n"
          ],
          "name": "stdout"
        }
      ]
    },
    {
      "cell_type": "code",
      "metadata": {
        "id": "zVdIJZ49EbJU",
        "colab_type": "code",
        "outputId": "167cbb26-839a-45fb-8a11-5fde79301c06",
        "colab": {
          "base_uri": "https://localhost:8080/",
          "height": 918
        }
      },
      "source": [
        "from keras.layers import Dropout\n",
        "from keras.engine import Model\n",
        "\n",
        "last = conv_base.get_layer('block5_pool').output\n",
        "# Add classification layers on top of it\n",
        "x = Flatten()(last)\n",
        "max\n",
        "x = Dropout(0.5)(x)\n",
        "pred = Dense(10, activation='sigmoid')(x)\n",
        "\n",
        "tl_model = Model(conv_base.input, pred)\n",
        "\n",
        "for layer in conv_base.layers:\n",
        "    layer.trainable = False\n",
        "\n",
        "tl_model.compile(loss='binary_crossentropy',\n",
        "              optimizer=SGD(lr=1e-3, momentum=0.9),\n",
        "              metrics=['accuracy'])\n",
        "\n",
        "tl_model.summary()"
      ],
      "execution_count": 0,
      "outputs": [
        {
          "output_type": "stream",
          "text": [
            "_________________________________________________________________\n",
            "Layer (type)                 Output Shape              Param #   \n",
            "=================================================================\n",
            "input_2 (InputLayer)         (None, 32, 32, 3)         0         \n",
            "_________________________________________________________________\n",
            "block1_conv1 (Conv2D)        (None, 32, 32, 64)        1792      \n",
            "_________________________________________________________________\n",
            "block1_conv2 (Conv2D)        (None, 32, 32, 64)        36928     \n",
            "_________________________________________________________________\n",
            "block1_pool (MaxPooling2D)   (None, 16, 16, 64)        0         \n",
            "_________________________________________________________________\n",
            "block2_conv1 (Conv2D)        (None, 16, 16, 128)       73856     \n",
            "_________________________________________________________________\n",
            "block2_conv2 (Conv2D)        (None, 16, 16, 128)       147584    \n",
            "_________________________________________________________________\n",
            "block2_pool (MaxPooling2D)   (None, 8, 8, 128)         0         \n",
            "_________________________________________________________________\n",
            "block3_conv1 (Conv2D)        (None, 8, 8, 256)         295168    \n",
            "_________________________________________________________________\n",
            "block3_conv2 (Conv2D)        (None, 8, 8, 256)         590080    \n",
            "_________________________________________________________________\n",
            "block3_conv3 (Conv2D)        (None, 8, 8, 256)         590080    \n",
            "_________________________________________________________________\n",
            "block3_pool (MaxPooling2D)   (None, 4, 4, 256)         0         \n",
            "_________________________________________________________________\n",
            "block4_conv1 (Conv2D)        (None, 4, 4, 512)         1180160   \n",
            "_________________________________________________________________\n",
            "block4_conv2 (Conv2D)        (None, 4, 4, 512)         2359808   \n",
            "_________________________________________________________________\n",
            "block4_conv3 (Conv2D)        (None, 4, 4, 512)         2359808   \n",
            "_________________________________________________________________\n",
            "block4_pool (MaxPooling2D)   (None, 2, 2, 512)         0         \n",
            "_________________________________________________________________\n",
            "block5_conv1 (Conv2D)        (None, 2, 2, 512)         2359808   \n",
            "_________________________________________________________________\n",
            "block5_conv2 (Conv2D)        (None, 2, 2, 512)         2359808   \n",
            "_________________________________________________________________\n",
            "block5_conv3 (Conv2D)        (None, 2, 2, 512)         2359808   \n",
            "_________________________________________________________________\n",
            "block5_pool (MaxPooling2D)   (None, 1, 1, 512)         0         \n",
            "_________________________________________________________________\n",
            "flatten_7 (Flatten)          (None, 512)               0         \n",
            "_________________________________________________________________\n",
            "dense_9 (Dense)              (None, 512)               262656    \n",
            "_________________________________________________________________\n",
            "dropout_3 (Dropout)          (None, 512)               0         \n",
            "_________________________________________________________________\n",
            "dense_10 (Dense)             (None, 10)                5130      \n",
            "=================================================================\n",
            "Total params: 14,982,474\n",
            "Trainable params: 267,786\n",
            "Non-trainable params: 14,714,688\n",
            "_________________________________________________________________\n"
          ],
          "name": "stdout"
        }
      ]
    },
    {
      "cell_type": "code",
      "metadata": {
        "id": "_F5Fsm8HE6fo",
        "colab_type": "code",
        "outputId": "b153f217-fe13-4a11-bafc-5d1815ae706c",
        "colab": {
          "base_uri": "https://localhost:8080/",
          "height": 2023
        }
      },
      "source": [
        "tl_model.fit(scaled_x_train, y_train,\n",
        "              batch_size=128,\n",
        "              shuffle=True,\n",
        "              epochs=128,\n",
        "              validation_data=(scaled_x_test, y_test),\n",
        "              callbacks=[EarlyStopping(min_delta=0.001, patience=3)])"
      ],
      "execution_count": 0,
      "outputs": [
        {
          "output_type": "stream",
          "text": [
            "Train on 50000 samples, validate on 10000 samples\n",
            "Epoch 1/128\n",
            "50000/50000 [==============================] - 11s 217us/step - loss: 0.3544 - acc: 0.8888 - val_loss: 0.3136 - val_acc: 0.9000\n",
            "Epoch 2/128\n",
            "50000/50000 [==============================] - 9s 184us/step - loss: 0.3241 - acc: 0.8999 - val_loss: 0.3041 - val_acc: 0.9000\n",
            "Epoch 3/128\n",
            "50000/50000 [==============================] - 9s 185us/step - loss: 0.3140 - acc: 0.8999 - val_loss: 0.2968 - val_acc: 0.9000\n",
            "Epoch 4/128\n",
            "50000/50000 [==============================] - 9s 187us/step - loss: 0.3058 - acc: 0.9000 - val_loss: 0.2908 - val_acc: 0.9000\n",
            "Epoch 5/128\n",
            "50000/50000 [==============================] - 9s 188us/step - loss: 0.2995 - acc: 0.9001 - val_loss: 0.2857 - val_acc: 0.9000\n",
            "Epoch 6/128\n",
            "50000/50000 [==============================] - 9s 187us/step - loss: 0.2945 - acc: 0.9001 - val_loss: 0.2813 - val_acc: 0.9000\n",
            "Epoch 7/128\n",
            "50000/50000 [==============================] - 9s 186us/step - loss: 0.2901 - acc: 0.9002 - val_loss: 0.2775 - val_acc: 0.9001\n",
            "Epoch 8/128\n",
            "50000/50000 [==============================] - 9s 186us/step - loss: 0.2866 - acc: 0.9005 - val_loss: 0.2741 - val_acc: 0.9002\n",
            "Epoch 9/128\n",
            "50000/50000 [==============================] - 9s 185us/step - loss: 0.2830 - acc: 0.9007 - val_loss: 0.2711 - val_acc: 0.9004\n",
            "Epoch 10/128\n",
            "50000/50000 [==============================] - 9s 185us/step - loss: 0.2800 - acc: 0.9008 - val_loss: 0.2684 - val_acc: 0.9006\n",
            "Epoch 11/128\n",
            "50000/50000 [==============================] - 9s 185us/step - loss: 0.2771 - acc: 0.9012 - val_loss: 0.2659 - val_acc: 0.9009\n",
            "Epoch 12/128\n",
            "50000/50000 [==============================] - 9s 186us/step - loss: 0.2749 - acc: 0.9014 - val_loss: 0.2637 - val_acc: 0.9015\n",
            "Epoch 13/128\n",
            "50000/50000 [==============================] - 9s 187us/step - loss: 0.2723 - acc: 0.9017 - val_loss: 0.2617 - val_acc: 0.9018\n",
            "Epoch 14/128\n",
            "50000/50000 [==============================] - 9s 186us/step - loss: 0.2703 - acc: 0.9018 - val_loss: 0.2599 - val_acc: 0.9020\n",
            "Epoch 15/128\n",
            "50000/50000 [==============================] - 9s 186us/step - loss: 0.2685 - acc: 0.9022 - val_loss: 0.2581 - val_acc: 0.9023\n",
            "Epoch 16/128\n",
            "50000/50000 [==============================] - 9s 187us/step - loss: 0.2667 - acc: 0.9026 - val_loss: 0.2565 - val_acc: 0.9026\n",
            "Epoch 17/128\n",
            "50000/50000 [==============================] - 9s 186us/step - loss: 0.2651 - acc: 0.9028 - val_loss: 0.2551 - val_acc: 0.9029\n",
            "Epoch 18/128\n",
            "50000/50000 [==============================] - 9s 187us/step - loss: 0.2638 - acc: 0.9029 - val_loss: 0.2537 - val_acc: 0.9032\n",
            "Epoch 19/128\n",
            "50000/50000 [==============================] - 9s 185us/step - loss: 0.2625 - acc: 0.9031 - val_loss: 0.2524 - val_acc: 0.9035\n",
            "Epoch 20/128\n",
            "50000/50000 [==============================] - 9s 186us/step - loss: 0.2607 - acc: 0.9035 - val_loss: 0.2512 - val_acc: 0.9041\n",
            "Epoch 21/128\n",
            "50000/50000 [==============================] - 9s 186us/step - loss: 0.2594 - acc: 0.9038 - val_loss: 0.2501 - val_acc: 0.9044\n",
            "Epoch 22/128\n",
            "50000/50000 [==============================] - 9s 187us/step - loss: 0.2579 - acc: 0.9041 - val_loss: 0.2490 - val_acc: 0.9047\n",
            "Epoch 23/128\n",
            "50000/50000 [==============================] - 9s 185us/step - loss: 0.2569 - acc: 0.9043 - val_loss: 0.2480 - val_acc: 0.9047\n",
            "Epoch 24/128\n",
            "50000/50000 [==============================] - 9s 185us/step - loss: 0.2562 - acc: 0.9045 - val_loss: 0.2470 - val_acc: 0.9051\n",
            "Epoch 25/128\n",
            "50000/50000 [==============================] - 9s 186us/step - loss: 0.2552 - acc: 0.9047 - val_loss: 0.2461 - val_acc: 0.9055\n",
            "Epoch 26/128\n",
            "50000/50000 [==============================] - 9s 186us/step - loss: 0.2540 - acc: 0.9052 - val_loss: 0.2452 - val_acc: 0.9057\n",
            "Epoch 27/128\n",
            "50000/50000 [==============================] - 9s 186us/step - loss: 0.2529 - acc: 0.9052 - val_loss: 0.2444 - val_acc: 0.9059\n",
            "Epoch 28/128\n",
            "50000/50000 [==============================] - 9s 186us/step - loss: 0.2524 - acc: 0.9055 - val_loss: 0.2436 - val_acc: 0.9063\n",
            "Epoch 29/128\n",
            "50000/50000 [==============================] - 9s 185us/step - loss: 0.2516 - acc: 0.9060 - val_loss: 0.2429 - val_acc: 0.9065\n",
            "Epoch 30/128\n",
            "50000/50000 [==============================] - 9s 187us/step - loss: 0.2504 - acc: 0.9058 - val_loss: 0.2421 - val_acc: 0.9068\n",
            "Epoch 31/128\n",
            "50000/50000 [==============================] - 9s 186us/step - loss: 0.2498 - acc: 0.9059 - val_loss: 0.2414 - val_acc: 0.9072\n",
            "Epoch 32/128\n",
            "50000/50000 [==============================] - 9s 187us/step - loss: 0.2488 - acc: 0.9064 - val_loss: 0.2408 - val_acc: 0.9070\n",
            "Epoch 33/128\n",
            "50000/50000 [==============================] - 9s 186us/step - loss: 0.2487 - acc: 0.9063 - val_loss: 0.2402 - val_acc: 0.9073\n",
            "Epoch 34/128\n",
            "50000/50000 [==============================] - 9s 187us/step - loss: 0.2477 - acc: 0.9067 - val_loss: 0.2395 - val_acc: 0.9075\n",
            "Epoch 35/128\n",
            "50000/50000 [==============================] - 9s 186us/step - loss: 0.2468 - acc: 0.9069 - val_loss: 0.2389 - val_acc: 0.9077\n",
            "Epoch 36/128\n",
            "50000/50000 [==============================] - 9s 186us/step - loss: 0.2460 - acc: 0.9071 - val_loss: 0.2383 - val_acc: 0.9080\n",
            "Epoch 37/128\n",
            "50000/50000 [==============================] - 9s 185us/step - loss: 0.2455 - acc: 0.9072 - val_loss: 0.2378 - val_acc: 0.9082\n",
            "Epoch 38/128\n",
            "50000/50000 [==============================] - 9s 185us/step - loss: 0.2448 - acc: 0.9074 - val_loss: 0.2372 - val_acc: 0.9084\n",
            "Epoch 39/128\n",
            "50000/50000 [==============================] - 9s 187us/step - loss: 0.2448 - acc: 0.9075 - val_loss: 0.2367 - val_acc: 0.9086\n",
            "Epoch 40/128\n",
            "50000/50000 [==============================] - 9s 186us/step - loss: 0.2438 - acc: 0.9078 - val_loss: 0.2362 - val_acc: 0.9086\n",
            "Epoch 41/128\n",
            "50000/50000 [==============================] - 9s 186us/step - loss: 0.2432 - acc: 0.9079 - val_loss: 0.2357 - val_acc: 0.9089\n",
            "Epoch 42/128\n",
            "50000/50000 [==============================] - 9s 185us/step - loss: 0.2425 - acc: 0.9078 - val_loss: 0.2352 - val_acc: 0.9091\n",
            "Epoch 43/128\n",
            "50000/50000 [==============================] - 9s 185us/step - loss: 0.2421 - acc: 0.9084 - val_loss: 0.2347 - val_acc: 0.9094\n",
            "Epoch 44/128\n",
            "50000/50000 [==============================] - 9s 185us/step - loss: 0.2413 - acc: 0.9083 - val_loss: 0.2343 - val_acc: 0.9094\n",
            "Epoch 45/128\n",
            "50000/50000 [==============================] - 9s 186us/step - loss: 0.2410 - acc: 0.9084 - val_loss: 0.2338 - val_acc: 0.9097\n",
            "Epoch 46/128\n",
            "50000/50000 [==============================] - 9s 185us/step - loss: 0.2409 - acc: 0.9085 - val_loss: 0.2334 - val_acc: 0.9098\n",
            "Epoch 47/128\n",
            "50000/50000 [==============================] - 9s 186us/step - loss: 0.2402 - acc: 0.9089 - val_loss: 0.2330 - val_acc: 0.9097\n",
            "Epoch 48/128\n",
            "50000/50000 [==============================] - 9s 185us/step - loss: 0.2398 - acc: 0.9089 - val_loss: 0.2326 - val_acc: 0.9099\n",
            "Epoch 49/128\n",
            "50000/50000 [==============================] - 9s 186us/step - loss: 0.2392 - acc: 0.9093 - val_loss: 0.2322 - val_acc: 0.9100\n",
            "Epoch 50/128\n",
            "50000/50000 [==============================] - 9s 185us/step - loss: 0.2389 - acc: 0.9090 - val_loss: 0.2318 - val_acc: 0.9101\n",
            "Epoch 51/128\n",
            "50000/50000 [==============================] - 9s 185us/step - loss: 0.2385 - acc: 0.9090 - val_loss: 0.2314 - val_acc: 0.9102\n",
            "Epoch 52/128\n",
            "50000/50000 [==============================] - 9s 184us/step - loss: 0.2380 - acc: 0.9094 - val_loss: 0.2311 - val_acc: 0.9103\n",
            "Epoch 53/128\n",
            "50000/50000 [==============================] - 9s 186us/step - loss: 0.2376 - acc: 0.9096 - val_loss: 0.2307 - val_acc: 0.9105\n",
            "Epoch 54/128\n",
            "50000/50000 [==============================] - 9s 185us/step - loss: 0.2370 - acc: 0.9098 - val_loss: 0.2303 - val_acc: 0.9109\n",
            "Epoch 55/128\n",
            "50000/50000 [==============================] - 9s 186us/step - loss: 0.2369 - acc: 0.9097 - val_loss: 0.2300 - val_acc: 0.9109\n",
            "Epoch 56/128\n",
            "50000/50000 [==============================] - 9s 186us/step - loss: 0.2366 - acc: 0.9099 - val_loss: 0.2297 - val_acc: 0.9110\n",
            "Epoch 57/128\n",
            "50000/50000 [==============================] - 9s 184us/step - loss: 0.2360 - acc: 0.9101 - val_loss: 0.2293 - val_acc: 0.9110\n",
            "Epoch 58/128\n",
            "50000/50000 [==============================] - 9s 186us/step - loss: 0.2355 - acc: 0.9103 - val_loss: 0.2290 - val_acc: 0.9112\n"
          ],
          "name": "stdout"
        },
        {
          "output_type": "execute_result",
          "data": {
            "text/plain": [
              "<keras.callbacks.History at 0x7fa61828a780>"
            ]
          },
          "metadata": {
            "tags": []
          },
          "execution_count": 28
        }
      ]
    },
    {
      "cell_type": "code",
      "metadata": {
        "id": "U_RAixYPFpDo",
        "colab_type": "code",
        "outputId": "a037a51b-fee4-4c3f-ce90-0a3f50bcf6be",
        "colab": {
          "base_uri": "https://localhost:8080/",
          "height": 295
        }
      },
      "source": [
        "plot(tl_model)"
      ],
      "execution_count": 0,
      "outputs": [
        {
          "output_type": "display_data",
          "data": {
            "image/png": "[encoded data removed]",
            "text/plain": [
              "<Figure size 432x288 with 1 Axes>"
            ]
          },
          "metadata": {
            "tags": []
          }
        }
      ]
    },
    {
      "cell_type": "code",
      "metadata": {
        "id": "loC5wU4rHIBv",
        "colab_type": "code",
        "colab": {}
      },
      "source": [
        ""
      ],
      "execution_count": 0,
      "outputs": []
    }
  ]
}